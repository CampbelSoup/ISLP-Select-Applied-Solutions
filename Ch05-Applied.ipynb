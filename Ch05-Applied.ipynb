{
 "cells": [
  {
   "cell_type": "markdown",
   "id": "84910b92",
   "metadata": {},
   "source": [
    "### Chapter 5 Select Applied Solutions"
   ]
  },
  {
   "cell_type": "code",
   "execution_count": 2,
   "id": "8c662218",
   "metadata": {},
   "outputs": [],
   "source": [
    "import numpy as np\n",
    "import statsmodels.api as sm\n",
    "from ISLP import load_data\n",
    "from ISLP.models import (ModelSpec as MS,\n",
    "                         summarize)\n",
    "from sklearn.model_selection import train_test_split\n",
    "from functools import partial\n",
    "from sklearn.base import clone\n",
    "import pandas as pd\n",
    "\n"
   ]
  },
  {
   "cell_type": "markdown",
   "id": "da00bd65",
   "metadata": {},
   "source": [
    "### Problem 5 "
   ]
  },
  {
   "cell_type": "code",
   "execution_count": 32,
   "id": "df28810f",
   "metadata": {},
   "outputs": [
    {
     "data": {
      "text/plain": [
       "(10000, 4)"
      ]
     },
     "execution_count": 32,
     "metadata": {},
     "output_type": "execute_result"
    }
   ],
   "source": [
    "Default = load_data(\"Default\")\n",
    "Default.shape"
   ]
  },
  {
   "cell_type": "code",
   "execution_count": 53,
   "id": "4c1c2c40",
   "metadata": {},
   "outputs": [
    {
     "data": {
      "text/plain": [
       "[[0.028795811518324606, 0.4965520405008923],\n",
       " [0.027371578552680915, 0.8000775260329769],\n",
       " [0.027654540076900325, 0.6761750967991185]]"
      ]
     },
     "execution_count": 53,
     "metadata": {},
     "output_type": "execute_result"
    }
   ],
   "source": [
    "Error = []\n",
    "for i in range (1,4):\n",
    "    rng = np.random.default_rng()\n",
    "    value = rng.random()\n",
    "    Auto_train, Auto_valid = train_test_split(Default, test_size = value, random_state = 0 ) \n",
    "    X_train, Y_train = Auto_train[[\"income\", 'balance']], Auto_train['default']\n",
    "    X_valid, Y_valid = Auto_valid[[\"income\", 'balance']], Auto_valid['default']\n",
    "\n",
    "    X_train = sm.add_constant(X_train)\n",
    "    X_valid = sm.add_constant(X_valid)\n",
    "\n",
    "    glm_train = sm.GLM(Y_train == \"Yes\",\n",
    "                    X_train,\n",
    "                    family=sm.families.Binomial())\n",
    "    results = glm_train.fit()\n",
    "    probs = results.predict(exog=X_valid)\n",
    "\n",
    "    preds = np.where(probs >0.5, \"Yes\", \"No\")\n",
    "    Error.append([np.mean(preds != Y_valid), value]) \n",
    "\n",
    "Error\n"
   ]
  },
  {
   "cell_type": "markdown",
   "id": "d1010638",
   "metadata": {},
   "source": [
    "Very similar results across the board even with different percentages of the data that were included in the training set "
   ]
  },
  {
   "cell_type": "code",
   "execution_count": 79,
   "id": "7f4467c9",
   "metadata": {},
   "outputs": [
    {
     "data": {
      "text/plain": [
       "[[0.028821410190427176, 0.19420584237465222],\n",
       " [0.02791023842917251, 0.7129672606353645],\n",
       " [0.02938871473354232, 0.5103738705710762]]"
      ]
     },
     "execution_count": 79,
     "metadata": {},
     "output_type": "execute_result"
    }
   ],
   "source": [
    "Error = []\n",
    "for i in range (1,4):\n",
    "    rng = np.random.default_rng()\n",
    "    value = rng.random()\n",
    "    Auto_train, Auto_valid = train_test_split(Default, test_size = value, random_state = 0 ) \n",
    "    X_train, Y_train = Auto_train[[\"income\", 'balance', 'student']], Auto_train['default']\n",
    "    X_valid, Y_valid = Auto_valid[[\"income\", 'balance', 'student']], Auto_valid['default']\n",
    "\n",
    "     # Convert categorical variable to numeric dummy\n",
    "    X_train = pd.get_dummies(X_train, drop_first=True)\n",
    "    X_valid = pd.get_dummies(X_valid, drop_first=True)\n",
    "\n",
    "    # Add constant for intercept (important in statsmodels)\n",
    "    X_train = sm.add_constant(X_train)\n",
    "    X_valid = sm.add_constant(X_valid)\n",
    "\n",
    "    X_train = X_train.astype(float)\n",
    "    X_valid = X_valid.astype(float)\n",
    "    \n",
    "    glm_train = sm.GLM(Y_train == \"Yes\",\n",
    "                    X_train,\n",
    "                    family=sm.families.Binomial())\n",
    "    results = glm_train.fit()\n",
    "    probs = results.predict(exog=X_valid)\n",
    "\n",
    "    preds = np.where(probs >0.5, \"Yes\", \"No\")\n",
    "    Error.append([np.mean(preds != Y_valid), value]) \n",
    "\n",
    "Error"
   ]
  },
  {
   "cell_type": "code",
   "execution_count": 83,
   "id": "ceb3c5e5",
   "metadata": {},
   "outputs": [
    {
     "data": {
      "text/plain": [
       "[[0.02834549878345499, 0.8219901135169876],\n",
       " [0.028994742711486377, 0.627657751190813],\n",
       " [0.02716868114236817, 0.9348005127967696]]"
      ]
     },
     "execution_count": 83,
     "metadata": {},
     "output_type": "execute_result"
    }
   ],
   "source": [
    "Error = []\n",
    "model_spec = MS(['income', 'balance', 'student'])\n",
    "\n",
    "for i in range(1, 4):\n",
    "    rng = np.random.default_rng()\n",
    "    value = rng.random()\n",
    "\n",
    "    Auto_train, Auto_valid = train_test_split(Default, test_size=value, random_state=0)\n",
    "\n",
    "    Y_train = (Auto_train['default'] == \"Yes\").astype(int)\n",
    "    Y_valid = Auto_valid['default']\n",
    "\n",
    "    # Apply model spec to build the design matrix\n",
    "    X_train = clone(model_spec).fit_transform(Auto_train)\n",
    "    X_valid = clone(model_spec).fit_transform(Auto_valid)\n",
    "\n",
    "    glm_train = sm.GLM(Y_train, X_train, family=sm.families.Binomial())\n",
    "    results = glm_train.fit()\n",
    "\n",
    "    probs = results.predict(X_valid)\n",
    "    preds = np.where(probs > 0.5, \"Yes\", \"No\")\n",
    "\n",
    "    Error.append([np.mean(preds != Y_valid), value])\n",
    "\n",
    "Error\n"
   ]
  },
  {
   "cell_type": "markdown",
   "id": "a976d5d4",
   "metadata": {},
   "source": [
    "Slight increase in the overall prediction error rate when including student in the predictions"
   ]
  },
  {
   "cell_type": "markdown",
   "id": "53fa843b",
   "metadata": {},
   "source": [
    "### Problem 6"
   ]
  },
  {
   "cell_type": "code",
   "execution_count": 73,
   "id": "390bc430",
   "metadata": {},
   "outputs": [
    {
     "data": {
      "text/html": [
       "<div>\n",
       "<style scoped>\n",
       "    .dataframe tbody tr th:only-of-type {\n",
       "        vertical-align: middle;\n",
       "    }\n",
       "\n",
       "    .dataframe tbody tr th {\n",
       "        vertical-align: top;\n",
       "    }\n",
       "\n",
       "    .dataframe thead th {\n",
       "        text-align: right;\n",
       "    }\n",
       "</style>\n",
       "<table border=\"1\" class=\"dataframe\">\n",
       "  <thead>\n",
       "    <tr style=\"text-align: right;\">\n",
       "      <th></th>\n",
       "      <th>coef</th>\n",
       "      <th>std err</th>\n",
       "      <th>z</th>\n",
       "      <th>P&gt;|z|</th>\n",
       "    </tr>\n",
       "  </thead>\n",
       "  <tbody>\n",
       "    <tr>\n",
       "      <th>const</th>\n",
       "      <td>-11.540500</td>\n",
       "      <td>0.435000</td>\n",
       "      <td>-26.544</td>\n",
       "      <td>0.0</td>\n",
       "    </tr>\n",
       "    <tr>\n",
       "      <th>income</th>\n",
       "      <td>0.000021</td>\n",
       "      <td>0.000005</td>\n",
       "      <td>4.174</td>\n",
       "      <td>0.0</td>\n",
       "    </tr>\n",
       "    <tr>\n",
       "      <th>balance</th>\n",
       "      <td>0.005600</td>\n",
       "      <td>0.000000</td>\n",
       "      <td>24.835</td>\n",
       "      <td>0.0</td>\n",
       "    </tr>\n",
       "  </tbody>\n",
       "</table>\n",
       "</div>"
      ],
      "text/plain": [
       "              coef   std err       z  P>|z|\n",
       "const   -11.540500  0.435000 -26.544    0.0\n",
       "income    0.000021  0.000005   4.174    0.0\n",
       "balance   0.005600  0.000000  24.835    0.0"
      ]
     },
     "execution_count": 73,
     "metadata": {},
     "output_type": "execute_result"
    }
   ],
   "source": [
    "X_train, Y_train = Default[[\"income\", 'balance']], Default['default']\n",
    "\n",
    "X_train = sm.add_constant(X_train)\n",
    "X_valid = sm.add_constant(X_valid)\n",
    "\n",
    "glm_train = sm.GLM(Y_train == \"Yes\",\n",
    "                    X_train,\n",
    "                    family=sm.families.Binomial())\n",
    "results = glm_train.fit()\n",
    "\n",
    "summarize(results)\n",
    "\n"
   ]
  },
  {
   "cell_type": "code",
   "execution_count": 74,
   "id": "c101b81b",
   "metadata": {},
   "outputs": [],
   "source": [
    "def boot_fn(model_matrix, response, D, idx):\n",
    "    D_ = D.loc[idx]\n",
    "    Y_ = D_[response]\n",
    "    X_ = clone(model_matrix).fit_transform(D_)\n",
    "    results = sm.GLM(Y_ == \"Yes\",\n",
    "                    X_,\n",
    "                    family=sm.families.Binomial()).fit()\n",
    "    return results.params\n",
    "\n",
    "\n",
    "def boot_SE(func,\n",
    "            D,\n",
    "            n=None,\n",
    "            B=1000,\n",
    "            seed=0):\n",
    "    rng = np.random.default_rng(seed)\n",
    "    first_, second_ = 0, 0\n",
    "    n = n or D.shape[0]\n",
    "    for _ in range(B):\n",
    "        idx = rng.choice(D.index,\n",
    "                         n,\n",
    "                         replace=True)\n",
    "        value = func(D, idx)\n",
    "        first_ += value\n",
    "        second_ += value**2\n",
    "    return np.sqrt(second_ / B - (first_ / B)**2)"
   ]
  },
  {
   "cell_type": "code",
   "execution_count": 75,
   "id": "b34d1475",
   "metadata": {},
   "outputs": [],
   "source": [
    "pred_function = partial(boot_fn, MS([\"income\", \"balance\"]), \"default\")"
   ]
  },
  {
   "cell_type": "code",
   "execution_count": 76,
   "id": "e0463ac7",
   "metadata": {},
   "outputs": [
    {
     "data": {
      "text/plain": [
       "array([[-1.16416373e+01,  1.87775777e-05,  5.73877605e-03],\n",
       "       [-1.27619965e+01,  3.20594655e-05,  6.16200434e-03],\n",
       "       [-1.12850364e+01,  1.59221870e-05,  5.61832222e-03],\n",
       "       [-1.09975828e+01,  1.40723398e-05,  5.41168597e-03],\n",
       "       [-1.13173469e+01,  1.12728778e-05,  5.70216361e-03],\n",
       "       [-1.17516107e+01,  1.85974460e-05,  5.83443562e-03],\n",
       "       [-1.12884834e+01,  1.52822182e-05,  5.53172383e-03],\n",
       "       [-1.13883312e+01,  1.73720495e-05,  5.70192972e-03],\n",
       "       [-1.11098351e+01,  2.33921172e-05,  5.28010522e-03],\n",
       "       [-1.10505563e+01,  1.50937413e-05,  5.46083916e-03]])"
      ]
     },
     "execution_count": 76,
     "metadata": {},
     "output_type": "execute_result"
    }
   ],
   "source": [
    "rng = np.random.default_rng(0)\n",
    "np.array([pred_function(Default,\n",
    "          rng.choice(Default.index,\n",
    "                     Default.shape[0],\n",
    "                     replace=True)) for _ in range(10)])"
   ]
  },
  {
   "cell_type": "code",
   "execution_count": null,
   "id": "2501f99a",
   "metadata": {},
   "outputs": [
    {
     "data": {
      "text/plain": [
       "intercept    0.425280\n",
       "income       0.000005\n",
       "balance      0.000227\n",
       "dtype: float64"
      ]
     },
     "execution_count": 77,
     "metadata": {},
     "output_type": "execute_result"
    }
   ],
   "source": [
    "pred_se = boot_SE(pred_function,\n",
    "                Default,\n",
    "                B=1000,\n",
    "                seed=10)\n",
    "pred_se"
   ]
  },
  {
   "cell_type": "markdown",
   "id": "00922f66",
   "metadata": {},
   "source": [
    "rouhgly similar resutls though we knw the bootstrap method will produce more indicative results as the MSE does not assume the model is correct"
   ]
  },
  {
   "cell_type": "markdown",
   "id": "535ef7de",
   "metadata": {},
   "source": [
    "### Problem 9 "
   ]
  },
  {
   "cell_type": "code",
   "execution_count": 85,
   "id": "b7f5830a",
   "metadata": {},
   "outputs": [
    {
     "data": {
      "text/plain": [
       "22.532806324110677"
      ]
     },
     "execution_count": 85,
     "metadata": {},
     "output_type": "execute_result"
    }
   ],
   "source": [
    "Boston  = load_data(\"Boston\")\n",
    "mean_est = Boston[\"medv\"].mean()\n",
    "mean_est "
   ]
  },
  {
   "cell_type": "code",
   "execution_count": 96,
   "id": "74919b62",
   "metadata": {},
   "outputs": [
    {
     "data": {
      "text/plain": [
       "0.40886114749753505"
      ]
     },
     "execution_count": 96,
     "metadata": {},
     "output_type": "execute_result"
    }
   ],
   "source": [
    "se_est = Boston[\"medv\"].std()/np.sqrt(Boston.shape[0])\n",
    "se_est"
   ]
  },
  {
   "cell_type": "code",
   "execution_count": 101,
   "id": "9e1416cf",
   "metadata": {},
   "outputs": [
    {
     "name": "stdout",
     "output_type": "stream",
     "text": [
      "Bootstrap SE: 0.41253476750888246\n"
     ]
    }
   ],
   "source": [
    "def SE_est(D, idx):\n",
    "    return D[\"medv\"].iloc[idx].mean()\n",
    "\n",
    "boot_se = boot_SE(SE_est, Boston, n=Boston.shape[0], B=1000, seed=0)\n",
    "print(\"Bootstrap SE:\", boot_se)\n",
    "\n"
   ]
  },
  {
   "cell_type": "markdown",
   "id": "1cc35b05",
   "metadata": {},
   "source": [
    "Comparable results "
   ]
  },
  {
   "cell_type": "code",
   "execution_count": 104,
   "id": "88f2dc66",
   "metadata": {},
   "outputs": [
    {
     "name": "stdout",
     "output_type": "stream",
     "text": [
      "Lower bounds: 21.707736789092912, Upper bounds: 23.35787585912844\n"
     ]
    }
   ],
   "source": [
    "low_95CI = mean_est - 2*boot_se\n",
    "high_95CI = mean_est + 2*boot_se\n",
    "print(f\"Lower bounds: {low_95CI}, Upper bounds: {high_95CI}\")\n"
   ]
  },
  {
   "cell_type": "code",
   "execution_count": 107,
   "id": "938023d5",
   "metadata": {},
   "outputs": [
    {
     "data": {
      "text/plain": [
       "21.2"
      ]
     },
     "execution_count": 107,
     "metadata": {},
     "output_type": "execute_result"
    }
   ],
   "source": [
    "median_est = Boston[\"medv\"].median()\n",
    "median_est"
   ]
  },
  {
   "cell_type": "code",
   "execution_count": 106,
   "id": "97689e7d",
   "metadata": {},
   "outputs": [
    {
     "name": "stdout",
     "output_type": "stream",
     "text": [
      "Bootstrap Median SE est: 0.36944622071302163\n"
     ]
    }
   ],
   "source": [
    "def MED_est(D,idx):\n",
    "    return D[\"medv\"].iloc[idx].median()\n",
    "\n",
    "boot_med = boot_SE(MED_est, Boston, n=Boston.shape[0], B=1000, seed=0)\n",
    "print(\"Bootstrap Median SE est:\", boot_med)"
   ]
  },
  {
   "cell_type": "code",
   "execution_count": 109,
   "id": "977bef1d",
   "metadata": {},
   "outputs": [
    {
     "data": {
      "text/plain": [
       "12.75"
      ]
     },
     "execution_count": 109,
     "metadata": {},
     "output_type": "execute_result"
    }
   ],
   "source": [
    "tenth_est = np.percentile(Boston[\"medv\"], 10)\n",
    "tenth_est"
   ]
  },
  {
   "cell_type": "code",
   "execution_count": 112,
   "id": "caf02a62",
   "metadata": {},
   "outputs": [
    {
     "name": "stdout",
     "output_type": "stream",
     "text": [
      "Bootstrap Tenth percentile SE est: 0.5034541091295026\n"
     ]
    }
   ],
   "source": [
    "def Ten_est(D,idx):\n",
    "    return D[\"medv\"].iloc[idx].quantile(0.1)\n",
    "\n",
    "boot_ten = boot_SE(Ten_est, Boston, n =Boston.shape[0], B = 1000, seed =0)\n",
    "print(\"Bootstrap Tenth percentile SE est:\", boot_ten)"
   ]
  }
 ],
 "metadata": {
  "kernelspec": {
   "display_name": "ISLP",
   "language": "python",
   "name": "python3"
  },
  "language_info": {
   "codemirror_mode": {
    "name": "ipython",
    "version": 3
   },
   "file_extension": ".py",
   "mimetype": "text/x-python",
   "name": "python",
   "nbconvert_exporter": "python",
   "pygments_lexer": "ipython3",
   "version": "3.12.9"
  }
 },
 "nbformat": 4,
 "nbformat_minor": 5
}
